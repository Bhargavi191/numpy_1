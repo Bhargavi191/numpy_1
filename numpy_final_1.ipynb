{
 "cells": [
  {
   "cell_type": "code",
   "execution_count": 1,
   "id": "69b954ca",
   "metadata": {},
   "outputs": [],
   "source": [
    "import numpy as np"
   ]
  },
  {
   "cell_type": "code",
   "execution_count": 2,
   "id": "0557f17e",
   "metadata": {},
   "outputs": [],
   "source": [
    "data = np.genfromtxt(r\"C:\\Users\\user\\Downloads\\tipsf.csv\",delimiter=\",\",skip_header=1)"
   ]
  },
  {
   "cell_type": "code",
   "execution_count": 3,
   "id": "ff16d561",
   "metadata": {},
   "outputs": [
    {
     "data": {
      "text/plain": [
       "array([[  0.  ,  16.99,   1.01, ...,   1.  ,   0.  ,   2.  ],\n",
       "       [  1.  ,  10.34,   1.66, ...,   1.  ,   0.  ,   3.  ],\n",
       "       [  2.  ,  21.01,   3.5 , ...,   1.  ,   0.  ,   3.  ],\n",
       "       ...,\n",
       "       [241.  ,  22.67,   2.  , ...,   0.  ,   0.  ,   2.  ],\n",
       "       [242.  ,  17.82,   1.75, ...,   0.  ,   0.  ,   2.  ],\n",
       "       [243.  ,  18.78,   3.  , ...,   2.  ,   0.  ,   2.  ]])"
      ]
     },
     "execution_count": 3,
     "metadata": {},
     "output_type": "execute_result"
    }
   ],
   "source": [
    "data"
   ]
  },
  {
   "cell_type": "code",
   "execution_count": 4,
   "id": "a2c2fa31",
   "metadata": {},
   "outputs": [
    {
     "data": {
      "text/plain": [
       "4827.77"
      ]
     },
     "execution_count": 4,
     "metadata": {},
     "output_type": "execute_result"
    }
   ],
   "source": [
    "# total bill\n",
    "\n",
    "bill = np.sum(data[:,1])\n",
    "bill"
   ]
  },
  {
   "cell_type": "code",
   "execution_count": 6,
   "id": "1cbfe1ef",
   "metadata": {},
   "outputs": [
    {
     "data": {
      "text/plain": [
       "731.5799999999999"
      ]
     },
     "execution_count": 6,
     "metadata": {},
     "output_type": "execute_result"
    }
   ],
   "source": [
    "# total tip value\n",
    "\n",
    "tip = np.sum(data[:,2])\n",
    "tip"
   ]
  },
  {
   "cell_type": "code",
   "execution_count": 9,
   "id": "0315538d",
   "metadata": {},
   "outputs": [
    {
     "name": "stdout",
     "output_type": "stream",
     "text": [
      "Thursday count is:  62\n",
      "Friday count is:  19\n",
      "Saturday count is:  87\n",
      "Sunday count is:  76\n"
     ]
    }
   ],
   "source": [
    "# count of sun,sat,thu,and fri\n",
    "\n",
    "a=np.unique(data[:,5],return_counts=True)\n",
    "count=a[1]\n",
    "print(\"Thursday count is: \",count[2])\n",
    "print(\"Friday count is: \",count[3])\n",
    "print(\"Saturday count is: \",count[0])\n",
    "print(\"Sunday count is: \",count[1])"
   ]
  },
  {
   "cell_type": "code",
   "execution_count": 10,
   "id": "d789a6e5",
   "metadata": {},
   "outputs": [
    {
     "name": "stdout",
     "output_type": "stream",
     "text": [
      "Total number of smokers are: 93\n"
     ]
    }
   ],
   "source": [
    "# count of smokers\n",
    "\n",
    "s = data[:,4][data[:,4]==1]\n",
    "print(\"Total number of smokers are:\",len(s))"
   ]
  },
  {
   "cell_type": "code",
   "execution_count": 13,
   "id": "aae313a3",
   "metadata": {},
   "outputs": [
    {
     "name": "stdout",
     "output_type": "stream",
     "text": [
      "Average amount tipped by female: 3.0896178343949052\n",
      "Average amount tipped by female: 2.833448275862069\n"
     ]
    }
   ],
   "source": [
    "# Average tip given by female & male\n",
    "\n",
    "female = data[:,2][data[:,3]==1]\n",
    "male = data[:,2][data[:,3]==0]\n",
    "t_f = 0\n",
    "t_m = 0\n",
    "for i in female:\n",
    "    t_f +=i\n",
    "for j in male:\n",
    "    t_m +=j\n",
    "print(\"Average amount tipped by female:\",t_f/len(female))\n",
    "print(\"Average amount tipped by female:\",t_m/len(male))"
   ]
  },
  {
   "cell_type": "code",
   "execution_count": 14,
   "id": "7233c943",
   "metadata": {},
   "outputs": [
    {
     "name": "stdout",
     "output_type": "stream",
     "text": [
      "amount spent by female: 3256.8200000000024\n",
      "amount spent by male: 1570.9499999999998\n"
     ]
    }
   ],
   "source": [
    "# spend by m & f\n",
    "\n",
    "f = data[:,1][data[:,3]==1]\n",
    "m = data[:,1][data[:,3]==0]\n",
    "s_f = 0\n",
    "s_m = 0\n",
    "for i in f:\n",
    "    s_f +=i\n",
    "for j in m:\n",
    "    s_m +=j\n",
    "print(\"amount spent by female:\",s_f)\n",
    "print(\"amount spent by male:\",s_m)"
   ]
  },
  {
   "cell_type": "code",
   "execution_count": 15,
   "id": "a4bc22f0",
   "metadata": {},
   "outputs": [
    {
     "name": "stdout",
     "output_type": "stream",
     "text": [
      "minimum tips collected : 1\n",
      "maximum tips collected : 10\n"
     ]
    }
   ],
   "source": [
    "# min & max tipps given\n",
    "\n",
    "min_t = np.min(data[:,2])\n",
    "max_t = np.max(data[:,2])\n",
    "print(\"minimum tips collected :\",int(min_t))\n",
    "print(\"maximum tips collected :\",int(max_t))"
   ]
  },
  {
   "cell_type": "code",
   "execution_count": 16,
   "id": "11180ce1",
   "metadata": {},
   "outputs": [
    {
     "name": "stdout",
     "output_type": "stream",
     "text": [
      "men & women going to lunch: 68\n",
      "men & women going to dinner: 176\n"
     ]
    }
   ],
   "source": [
    "# count of male & female going for lunch & dinner\n",
    "\n",
    "lunch = data[:,3][data[:,6]==1]\n",
    "dinner= data[:,3][data[:,6]==0]\n",
    "print(\"men & women going to lunch:\",len(lunch))\n",
    "print(\"men & women going to dinner:\",len(dinner))"
   ]
  },
  {
   "cell_type": "code",
   "execution_count": 18,
   "id": "dbda54d1",
   "metadata": {},
   "outputs": [
    {
     "name": "stdout",
     "output_type": "stream",
     "text": [
      "average size: 2.569672131147541\n"
     ]
    }
   ],
   "source": [
    "# average size\n",
    "\n",
    "a_s = data[:,7]\n",
    "s = 0\n",
    "for i in a_s:\n",
    "    s += i\n",
    "print(\"average size:\",s/len(data[:,7]))\n"
   ]
  },
  {
   "cell_type": "code",
   "execution_count": 20,
   "id": "3bf7ac3c",
   "metadata": {},
   "outputs": [
    {
     "name": "stdout",
     "output_type": "stream",
     "text": [
      "female smokers are: 33\n",
      "male smokers are: 60\n"
     ]
    }
   ],
   "source": [
    "# count of male & female smokers\n",
    "\n",
    "f = data[:,4][(data[:,4]==1) & (data[:,3]==0)]\n",
    "m = data[:,4][(data[:,4]==1) & (data[:,3]==1)]\n",
    "print(\"female smokers are:\",len(f))\n",
    "print(\"male smokers are:\",len(m))"
   ]
  },
  {
   "cell_type": "code",
   "execution_count": null,
   "id": "6c4dda94",
   "metadata": {},
   "outputs": [],
   "source": []
  }
 ],
 "metadata": {
  "kernelspec": {
   "display_name": "Python 3 (ipykernel)",
   "language": "python",
   "name": "python3"
  },
  "language_info": {
   "codemirror_mode": {
    "name": "ipython",
    "version": 3
   },
   "file_extension": ".py",
   "mimetype": "text/x-python",
   "name": "python",
   "nbconvert_exporter": "python",
   "pygments_lexer": "ipython3",
   "version": "3.11.4"
  }
 },
 "nbformat": 4,
 "nbformat_minor": 5
}
