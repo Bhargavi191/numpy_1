{
 "cells": [
  {
   "cell_type": "code",
   "execution_count": 3,
   "id": "f2f68080",
   "metadata": {},
   "outputs": [],
   "source": [
    "import numpy as np"
   ]
  },
  {
   "cell_type": "code",
   "execution_count": 4,
   "id": "a44ca9f9",
   "metadata": {},
   "outputs": [],
   "source": [
    "a = np.genfromtxt(r\"C:\\Users\\user\\Downloads\\train_extended.csv\",delimiter=\",\",skip_header=1)"
   ]
  },
  {
   "cell_type": "code",
   "execution_count": 3,
   "id": "f3d09cab",
   "metadata": {},
   "outputs": [
    {
     "data": {
      "text/plain": [
       "array([[ 1.575     ,  1.225     ,  0.375     , ...,  6.3219385 ,\n",
       "         9.63883   , 10.        ],\n",
       "       [ 1.2375    ,  1.        ,  0.375     , ...,  3.798833  ,\n",
       "         7.654365  , 19.        ],\n",
       "       [ 1.45      ,  1.1625    ,  0.4125    , ...,  7.01650125,\n",
       "         7.257472  , 11.        ],\n",
       "       ...,\n",
       "       [ 1.125     ,  0.9125    ,  0.2875    , ...,  1.984465  ,\n",
       "         3.118445  ,  7.        ],\n",
       "       [ 1.625     ,  1.275     ,  0.4125    , ...,  7.86698625,\n",
       "        10.489315  , 11.        ],\n",
       "       [ 1.5875    ,  1.25      ,  0.3875    , ...,  7.38504475,\n",
       "         8.788345  , 11.        ]])"
      ]
     },
     "execution_count": 3,
     "metadata": {},
     "output_type": "execute_result"
    }
   ],
   "source": [
    "a"
   ]
  },
  {
   "cell_type": "code",
   "execution_count": 4,
   "id": "0ff44423",
   "metadata": {},
   "outputs": [
    {
     "name": "stdout",
     "output_type": "stream",
     "text": [
      "max: 7.58349125\n",
      "min: 0.0\n"
     ]
    }
   ],
   "source": [
    "# what is the max and min length\n",
    "\n",
    "a1 = np.max(a[:,0])\n",
    "b1 = np.min(a[:,0])\n",
    "print(\"max:\",a1)\n",
    "print(\"min:\",b1)\n"
   ]
  },
  {
   "cell_type": "code",
   "execution_count": 5,
   "id": "9fd86bec",
   "metadata": {},
   "outputs": [
    {
     "name": "stdout",
     "output_type": "stream",
     "text": [
      "difference:\n",
      " 7.58349125\n"
     ]
    }
   ],
   "source": [
    "# find out the diff b/w max and min length\n",
    "\n",
    "max1= np.max(a[:,0])\n",
    "min1= np.min(a[:,0])\n",
    "print(\"difference:\\n\" , max1-min1)"
   ]
  },
  {
   "cell_type": "code",
   "execution_count": 6,
   "id": "ea5b267e",
   "metadata": {},
   "outputs": [],
   "source": [
    "#find column wise average\n",
    "\n",
    "x = np.mean(a,axis=0)"
   ]
  },
  {
   "cell_type": "code",
   "execution_count": 7,
   "id": "3fe5bf1c",
   "metadata": {},
   "outputs": [
    {
     "data": {
      "text/plain": [
       "array([ 1.31244808,  1.02032036,  0.34602787, 23.12343631,  9.98937025,\n",
       "        4.99318096,  6.63422915,  9.950615  ])"
      ]
     },
     "execution_count": 7,
     "metadata": {},
     "output_type": "execute_result"
    }
   ],
   "source": [
    "x"
   ]
  },
  {
   "cell_type": "code",
   "execution_count": 5,
   "id": "045bcce5",
   "metadata": {},
   "outputs": [
    {
     "name": "stdout",
     "output_type": "stream",
     "text": [
      "age of persons height is greater than 0.4: [11. 14. 13. ... 11. 11. 11.]\n"
     ]
    }
   ],
   "source": [
    "# age of the persons whose height is greater than 0.4\n",
    "age = a[:,-1][a[:,2]>0.4]\n",
    "print(\"age of persons height is greater than 0.4:\",age)\n"
   ]
  },
  {
   "cell_type": "code",
   "execution_count": 7,
   "id": "a26ea250",
   "metadata": {},
   "outputs": [
    {
     "name": "stdout",
     "output_type": "stream",
     "text": [
      "average height of the person age is 10: 0.3833672856540043\n",
      "average weight of the person age is 10: 28.243308450511055\n"
     ]
    }
   ],
   "source": [
    "# find out average height and weight of the persons whose age is 10\n",
    "height = a[:,2][a[:,-1]==10]\n",
    "weight = a[:,3][a[:,-1]==10]\n",
    "h=0\n",
    "w=0\n",
    "for i in height:\n",
    "    h+=i\n",
    "for j in weight:\n",
    "    w+=j\n",
    "print(\"average height of the person age is 10:\",h/len(height))\n",
    "print(\"average weight of the person age is 10:\",w/len(weight))"
   ]
  },
  {
   "cell_type": "code",
   "execution_count": 9,
   "id": "f63a30e8",
   "metadata": {},
   "outputs": [
    {
     "name": "stdout",
     "output_type": "stream",
     "text": [
      "total shell weight: 1326846\n"
     ]
    }
   ],
   "source": [
    "# total shell weight\n",
    "\n",
    "t_s_w = np.round(np.sum(a[:,-2]))\n",
    "print(\"total shell weight:\",int(t_s_w))"
   ]
  },
  {
   "cell_type": "code",
   "execution_count": 10,
   "id": "654f66c8",
   "metadata": {},
   "outputs": [
    {
     "name": "stdout",
     "output_type": "stream",
     "text": [
      "persons belongs to each and every unique age: (array([ 1.,  2.,  3.,  4.,  5.,  6.,  7.,  8.,  9., 10., 11., 12., 13.,\n",
      "       14., 15., 16., 17., 18., 19., 20., 21., 22., 23., 24., 25., 26.,\n",
      "       27., 29.]), array([   46,    42,   625,  2787,  5475, 12450, 18276, 26818, 32906,\n",
      "       30803, 23457, 12717, 10037,  6352,  4831,  3191,  2705,  1953,\n",
      "        1591,  1206,   721,   296,   352,   110,    51,    46,    99,\n",
      "          57], dtype=int64))\n"
     ]
    }
   ],
   "source": [
    "# persons belongs to each and every unique age\n",
    "\n",
    "uni_age = np.unique(a[:,7],return_counts=True)\n",
    "print(\"persons belongs to each and every unique age:\",uni_age)"
   ]
  },
  {
   "cell_type": "code",
   "execution_count": 12,
   "id": "c72e2c9a",
   "metadata": {},
   "outputs": [
    {
     "name": "stdout",
     "output_type": "stream",
     "text": [
      "difference: 999237\n"
     ]
    }
   ],
   "source": [
    "# diff b/w shucked weight and viscua weight \n",
    "\n",
    "shuck_wei = np.sum(a[:,4])\n",
    "vis_wei = np.sum(a[:,5])\n",
    "print(\"difference:\",int(shuck_wei-vis_wei))"
   ]
  },
  {
   "cell_type": "code",
   "execution_count": 16,
   "id": "68ec5694",
   "metadata": {},
   "outputs": [
    {
     "name": "stdout",
     "output_type": "stream",
     "text": [
      "145821.0\n"
     ]
    }
   ],
   "source": [
    "# average height of the person whose age b/w 14 & 19\n",
    "\n",
    "avg_h = a.take(np.where((a[:,7]>=14)&(a[:,7]<=19)))\n",
    "h = np.sum(avg_h)\n",
    "s = np.round((h/len(avg_h)))\n",
    "print(s)"
   ]
  },
  {
   "cell_type": "code",
   "execution_count": null,
   "id": "32cc2675",
   "metadata": {},
   "outputs": [],
   "source": []
  }
 ],
 "metadata": {
  "kernelspec": {
   "display_name": "Python 3 (ipykernel)",
   "language": "python",
   "name": "python3"
  },
  "language_info": {
   "codemirror_mode": {
    "name": "ipython",
    "version": 3
   },
   "file_extension": ".py",
   "mimetype": "text/x-python",
   "name": "python",
   "nbconvert_exporter": "python",
   "pygments_lexer": "ipython3",
   "version": "3.11.4"
  }
 },
 "nbformat": 4,
 "nbformat_minor": 5
}
